{
 "cells": [
  {
   "cell_type": "code",
   "execution_count": null,
   "metadata": {},
   "outputs": [],
   "source": [
    "import numpy as np\n",
    "import matplotlib.pyplot as plt\n",
    "from sklearn.datasets import load_iris"
   ]
  },
  {
   "cell_type": "code",
   "execution_count": null,
   "metadata": {},
   "outputs": [],
   "source": [
    "iris = load_iris()\n",
    "\n",
    "x = iris.data\n",
    "y = iris.target\n",
    "names = list(iris.target_names)\n",
    "\n",
    "print(f\"x contient {x.shape[0]} exemples et {x.shape[1]} variables\")\n",
    "print(f\"il y a {np.unique(y).size} classes\")\n",
    "y"
   ]
  },
  {
   "cell_type": "code",
   "execution_count": null,
   "metadata": {},
   "outputs": [],
   "source": [
    "plt.scatter(x[:, 0], x[:, 1], c=y, alpha=0.5, s=x[:, 2]*100)\n",
    "plt.xlabel(\"Longueur sépal\")\n",
    "plt.ylabel(\"Largeur sépal\")\n",
    "plt.colorbar()"
   ]
  },
  {
   "cell_type": "code",
   "execution_count": null,
   "metadata": {},
   "outputs": [],
   "source": [
    "#%conda install matplotlib\n",
    "#%conda install scikit-learn\n",
    "#conda install libgcc\n",
    "#conda update libstdcxx-ng"
   ]
  }
 ],
 "metadata": {
  "kernelspec": {
   "display_name": "Python 3.9.12 ('base')",
   "language": "python",
   "name": "python3"
  },
  "language_info": {
   "name": "python",
   "version": "3.9.12"
  },
  "orig_nbformat": 4,
  "vscode": {
   "interpreter": {
    "hash": "cfd8684c7f53546f7fdc85df00f20bbd1266ef94d3e3b65674cf698d02319b94"
   }
  }
 },
 "nbformat": 4,
 "nbformat_minor": 2
}
